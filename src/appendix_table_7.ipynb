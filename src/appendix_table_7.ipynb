{
 "cells": [
  {
   "cell_type": "markdown",
   "id": "cea7200d",
   "metadata": {},
   "source": [
    "# Appendix Table 7"
   ]
  },
  {
   "cell_type": "code",
   "execution_count": 1,
   "id": "33f294cb",
   "metadata": {},
   "outputs": [
    {
     "name": "stdout",
     "output_type": "stream",
     "text": [
      "clustering_l0_w_p_m_c\n",
      "average on all\n",
      "0.5930900108860195\n",
      "average first 25\n",
      "0.9075156907625309\n",
      "average last 25\n",
      "0.2786643310095082\n",
      "clustering_l1_w_p_m_c\n",
      "average on all\n",
      "0.6629293013838068\n",
      "average first 25\n",
      "0.9136520297337687\n",
      "average last 25\n",
      "0.41220657303384506\n",
      "clustering_l0_wo_p_m_c\n",
      "average on all\n",
      "0.26605413429573155\n",
      "average first 25\n",
      "0.49813445790489863\n",
      "average last 25\n",
      "0.033973810686564396\n",
      "clustering_l1_wo_p_m_c\n",
      "average on all\n",
      "0.2802331909400491\n",
      "average first 25\n",
      "0.5245014336393045\n",
      "average last 25\n",
      "0.03596494824079372\n"
     ]
    }
   ],
   "source": [
    "import pandas as pd\n",
    "from src import REPO_PATH\n",
    "paths = {\n",
    "    \"clustering_l0_w_p_m_c\": \"data/prag_mega_plus_exps/clustering_runs/2025-05-30-21:22:52.711644/L0_rsc_rsa.jsonl\",\n",
    "    \"clustering_l1_w_p_m_c\": \"data/prag_mega_plus_exps/clustering_runs/2025-05-30-21:22:52.711644/L1_rsc_rsa.jsonl\",\n",
    "    \"clustering_l0_wo_p_m_c\": \"data/prag_mega_plus_exps/clustering_runs/2025-05-30-21:24:50.862802/L0_rsc_rsa.jsonl\",\n",
    "    \"clustering_l1_wo_p_m_c\": \"data/prag_mega_plus_exps/clustering_runs/2025-05-30-21:24:50.862802/L1_rsc_rsa.jsonl\",\n",
    "}\n",
    "\n",
    "for path_name, path in paths.items():\n",
    "    df = pd.read_json(REPO_PATH / path, lines=True)\n",
    "    if \"l0\" in path_name:\n",
    "        df[\"meaning_mapping\"] = df[\"meanings\"].apply(lambda x: {elt[\"meaning\"]: elt[\"meaning_type\"] for elt in x})\n",
    "        df[\"correct_meaning\"] = df[\"meanings\"].apply(lambda x: [elt[\"meaning\"] for elt in x if elt[\"is_correct\"] == \"Correct\"][0])\n",
    "        df[\"PL0(m|c,u=original)\"] = df.apply(\n",
    "            lambda row: row[\"L0\"][\"PL0_rsc_rsa(m|c,u)\"][str((row[\"context_w_something\"], row[\"original_utterance\"]))], axis=1\n",
    "        )\n",
    "        df[\"PL0(correct|c,u=original)\"] = df.apply(\n",
    "            lambda row: row[\"PL0(m|c,u=original)\"][row[\"correct_meaning\"]], axis=1\n",
    "        )\n",
    "        df[\"p_correct\"] = df[\"PL0(correct|c,u=original)\"]\n",
    "    elif \"l1\" in path_name:\n",
    "        df[\"meaning_mapping\"] = df[\"meanings\"].apply(lambda x: {elt[\"meaning\"]: elt[\"meaning_type\"] for elt in x})\n",
    "        df[\"correct_meaning\"] = df[\"meanings\"].apply(lambda x: [elt[\"meaning\"] for elt in x if elt[\"is_correct\"] == \"Correct\"][0])\n",
    "        df[\"PL1(m|c,u=original)\"] = df.apply(\n",
    "            lambda row: row[\"L1\"][\"PL1_rsc_rsa(m|c,u)\"][str((row[\"context_w_something\"], row[\"original_utterance\"]))], axis=1\n",
    "        )\n",
    "        df[\"PL1(correct|c,u=original)\"] = df.apply(\n",
    "            lambda row: row[\"PL1(m|c,u=original)\"][row[\"correct_meaning\"]], axis=1\n",
    "        )\n",
    "        df[\"p_correct\"] = df[\"PL1(correct|c,u=original)\"]\n",
    "    # print(df[\"p_correct\"])\n",
    "    print(path_name)\n",
    "    print(\"average on all\")\n",
    "    print(df[\"p_correct\"].mean())\n",
    "    print(\"average first 25\")\n",
    "    print(df[\"p_correct\"][:25].mean())\n",
    "    print(\"average last 25\")\n",
    "    print(df[\"p_correct\"][25:].mean())"
   ]
  },
  {
   "cell_type": "code",
   "execution_count": 2,
   "id": "3999f734",
   "metadata": {},
   "outputs": [
    {
     "data": {
      "text/plain": [
       "0     0.424333\n",
       "1     0.510055\n",
       "2     0.949221\n",
       "3     0.055705\n",
       "4     0.726673\n",
       "5     0.503206\n",
       "6     0.785294\n",
       "7     0.822945\n",
       "8     0.198760\n",
       "9     0.386857\n",
       "10    0.705858\n",
       "11    0.267453\n",
       "12    0.560329\n",
       "13    0.752390\n",
       "14    0.708813\n",
       "15    0.657123\n",
       "16    0.023052\n",
       "17    0.196675\n",
       "18    0.236635\n",
       "19    0.569876\n",
       "20    0.929295\n",
       "21    0.481492\n",
       "22    0.525270\n",
       "23    0.306370\n",
       "24    0.828855\n",
       "25    0.191500\n",
       "26    0.284779\n",
       "27    0.003686\n",
       "28    0.003056\n",
       "29    0.009260\n",
       "30    0.066339\n",
       "31    0.041677\n",
       "32    0.005660\n",
       "33    0.056763\n",
       "34    0.027259\n",
       "35    0.078729\n",
       "36    0.002265\n",
       "37    0.002629\n",
       "38    0.001765\n",
       "39    0.001506\n",
       "40    0.000270\n",
       "41    0.010370\n",
       "42    0.007822\n",
       "43    0.015821\n",
       "44    0.003750\n",
       "45    0.009873\n",
       "46    0.008871\n",
       "47    0.013228\n",
       "48    0.021166\n",
       "49    0.031081\n",
       "Name: p_correct, dtype: float64"
      ]
     },
     "execution_count": 2,
     "metadata": {},
     "output_type": "execute_result"
    }
   ],
   "source": [
    "df[\"p_correct\"]"
   ]
  },
  {
   "cell_type": "code",
   "execution_count": null,
   "id": "daa366f0",
   "metadata": {},
   "outputs": [],
   "source": []
  }
 ],
 "metadata": {
  "kernelspec": {
   "display_name": "rsa2_v0",
   "language": "python",
   "name": "python3"
  },
  "language_info": {
   "codemirror_mode": {
    "name": "ipython",
    "version": 3
   },
   "file_extension": ".py",
   "mimetype": "text/x-python",
   "name": "python",
   "nbconvert_exporter": "python",
   "pygments_lexer": "ipython3",
   "version": "3.11.13"
  }
 },
 "nbformat": 4,
 "nbformat_minor": 5
}
